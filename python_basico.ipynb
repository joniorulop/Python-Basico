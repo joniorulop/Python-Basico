{
 "cells": [
  {
   "cell_type": "markdown",
   "id": "greenhouse-warning",
   "metadata": {},
   "source": [
    "Fuente https://www.w3schools.com/python/python_examples.asp"
   ]
  },
  {
   "cell_type": "code",
   "execution_count": 26,
   "id": "twenty-carol",
   "metadata": {},
   "outputs": [
    {
     "data": {
      "text/plain": [
       "'\\nEsto es para hacer\\nmultilinea\\n'"
      ]
     },
     "execution_count": 26,
     "metadata": {},
     "output_type": "execute_result"
    }
   ],
   "source": [
    "#docstring\n",
    "\"\"\"\n",
    "Esto es para hacer\n",
    "multilinea\n",
    "\"\"\""
   ]
  },
  {
   "cell_type": "code",
   "execution_count": null,
   "id": "flexible-algorithm",
   "metadata": {},
   "outputs": [],
   "source": [
    "#mostrar"
   ]
  },
  {
   "cell_type": "code",
   "execution_count": 1,
   "id": "intelligent-guest",
   "metadata": {},
   "outputs": [
    {
     "name": "stdout",
     "output_type": "stream",
     "text": [
      "hello\n"
     ]
    }
   ],
   "source": [
    "print(\"hello\")"
   ]
  },
  {
   "cell_type": "markdown",
   "id": "realistic-selection",
   "metadata": {},
   "source": [
    "variables\n"
   ]
  },
  {
   "cell_type": "code",
   "execution_count": 3,
   "id": "romantic-louisiana",
   "metadata": {},
   "outputs": [
    {
     "name": "stdout",
     "output_type": "stream",
     "text": [
      "5\n",
      "Juan\n",
      "<class 'int'>\n",
      "<class 'float'>\n",
      "<class 'complex'>\n"
     ]
    }
   ],
   "source": [
    "x = 5\n",
    "y = \"Juan\"\n",
    "print(x)\n",
    "print(y)\n"
   ]
  },
  {
   "cell_type": "markdown",
   "id": "settled-mexican",
   "metadata": {},
   "source": [
    " tipo de variable"
   ]
  },
  {
   "cell_type": "code",
   "execution_count": 4,
   "id": "retained-laptop",
   "metadata": {},
   "outputs": [
    {
     "name": "stdout",
     "output_type": "stream",
     "text": [
      "<class 'int'>\n",
      "<class 'float'>\n",
      "<class 'complex'>\n"
     ]
    }
   ],
   "source": [
    "x1 = 1\n",
    "y1 = 2.8\n",
    "z1 = 1j\n",
    "print(type(x1))\n",
    "print(type(y1))\n",
    "print(type(z1))"
   ]
  },
  {
   "cell_type": "markdown",
   "id": "formed-vault",
   "metadata": {},
   "source": [
    "numeracion cientifica"
   ]
  },
  {
   "cell_type": "code",
   "execution_count": 5,
   "id": "activated-acrobat",
   "metadata": {},
   "outputs": [
    {
     "name": "stdout",
     "output_type": "stream",
     "text": [
      "35000.0\n",
      "<class 'float'>\n",
      "120000.0\n",
      "<class 'float'>\n",
      "-8.77e+101\n",
      "<class 'float'>\n"
     ]
    }
   ],
   "source": [
    "x = 35e3\n",
    "y = 12E4\n",
    "z = -87.7e100\n",
    "\n",
    "print(x)\n",
    "print(type(x))\n",
    "print(y)\n",
    "print(type(y))\n",
    "print(z)\n",
    "print(type(z))\n"
   ]
  },
  {
   "cell_type": "markdown",
   "id": "ceramic-collect",
   "metadata": {},
   "source": [
    "cating int / convertir tipos a entero "
   ]
  },
  {
   "cell_type": "code",
   "execution_count": 7,
   "id": "metropolitan-venue",
   "metadata": {},
   "outputs": [
    {
     "name": "stdout",
     "output_type": "stream",
     "text": [
      "1\n",
      "2\n",
      "3\n"
     ]
    }
   ],
   "source": [
    "x = int(1)\n",
    "y = int(2.8)\n",
    "z = int(\"3\")\n",
    "\n",
    "print(x)\n",
    "print(y)\n",
    "print(z)"
   ]
  },
  {
   "cell_type": "markdown",
   "id": "contemporary-malawi",
   "metadata": {},
   "source": [
    "cast float / convertir a tipo flotante"
   ]
  },
  {
   "cell_type": "code",
   "execution_count": 10,
   "id": "forbidden-table",
   "metadata": {},
   "outputs": [
    {
     "name": "stdout",
     "output_type": "stream",
     "text": [
      "1.0\n",
      "2.8\n",
      "3.0\n",
      "2.3\n"
     ]
    }
   ],
   "source": [
    "x = float(1)\n",
    "y = float(2.8)\n",
    "z = float(\"3\")\n",
    "w = float(\"2.3\")\n",
    "\n",
    "print(x)\n",
    "print(y)\n",
    "print(z)\n",
    "print(w)"
   ]
  },
  {
   "cell_type": "markdown",
   "id": "unexpected-memphis",
   "metadata": {},
   "source": [
    "cast string & convertir a cadena o palabra"
   ]
  },
  {
   "cell_type": "code",
   "execution_count": 12,
   "id": "round-lover",
   "metadata": {},
   "outputs": [
    {
     "name": "stdout",
     "output_type": "stream",
     "text": [
      "1\n",
      "2\n",
      "3.0\n"
     ]
    }
   ],
   "source": [
    "x = str(\"1\")\n",
    "y = str(2)\n",
    "z = str(3.0)\n",
    "\n",
    "print(x)\n",
    "print(y)\n",
    "print(z)"
   ]
  },
  {
   "cell_type": "markdown",
   "id": "neutral-vocabulary",
   "metadata": {},
   "source": [
    "String"
   ]
  },
  {
   "cell_type": "code",
   "execution_count": 24,
   "id": "serious-adams",
   "metadata": {},
   "outputs": [
    {
     "name": "stdout",
     "output_type": "stream",
     "text": [
      "a\n",
      "vue\n",
      "elimina los espacios al principio y al final\n",
      "19\n",
      "minusculas\n",
      "MAYUSCULAS\n",
      "mostaza\n",
      "['corta', ' por un simbolo y devuelve un diccionario']\n"
     ]
    }
   ],
   "source": [
    "a = \"la primera letra\"\n",
    "print(a[1])\n",
    "\n",
    "b = \"devuelve un substring\"\n",
    "print(b[2:5])\n",
    "\n",
    "c = \"   elimina los espacios al principio y al final    \"\n",
    "print(c.strip())\n",
    "\n",
    "d = \"longitud del string\"\n",
    "print(len(d))\n",
    "\n",
    "e = \"minusculas\"\n",
    "print(e.lower())\n",
    "\n",
    "d = \"mayusculas\"\n",
    "print(d.upper())\n",
    "\n",
    "f = \"reemplaza\"\n",
    "print(f.replace(\"reempl\", \"most\"))\n",
    "\n",
    "g = \"corta, por un simbolo y devuelve un diccionario\"\n",
    "print(g.split(\",\"))"
   ]
  },
  {
   "cell_type": "markdown",
   "id": "animal-exploration",
   "metadata": {},
   "source": [
    "Operadores"
   ]
  },
  {
   "cell_type": "code",
   "execution_count": 25,
   "id": "focal-mambo",
   "metadata": {},
   "outputs": [
    {
     "name": "stdout",
     "output_type": "stream",
     "text": [
      "8\n",
      "2\n",
      "15\n",
      "4.0\n",
      "1\n",
      "5\n"
     ]
    }
   ],
   "source": [
    "x = 5\n",
    "y = 3\n",
    "\n",
    "print(x + y)\n",
    "\n",
    "x1 = 5\n",
    "y1 = 3\n",
    "\n",
    "print(x1 - y1)\n",
    "\n",
    "x2 = 5\n",
    "y2 = 3\n",
    "\n",
    "print(x2 * y2)\n",
    "\n",
    "x3 = 12\n",
    "y3 = 3\n",
    "\n",
    "print(x3 / y3)\n",
    "\n",
    "x4 = 5\n",
    "y4 = 2\n",
    "\n",
    "print(x4 % y4)\n",
    "\n",
    "#asignacions\n",
    "x = 5\n",
    "\n",
    "print(x)"
   ]
  }
 ],
 "metadata": {
  "kernelspec": {
   "display_name": "Python 3",
   "language": "python",
   "name": "python3"
  },
  "language_info": {
   "codemirror_mode": {
    "name": "ipython",
    "version": 3
   },
   "file_extension": ".py",
   "mimetype": "text/x-python",
   "name": "python",
   "nbconvert_exporter": "python",
   "pygments_lexer": "ipython3",
   "version": "3.8.7"
  }
 },
 "nbformat": 4,
 "nbformat_minor": 5
}
